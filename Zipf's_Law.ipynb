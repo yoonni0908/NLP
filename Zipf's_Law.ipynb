{
  "nbformat": 4,
  "nbformat_minor": 0,
  "metadata": {
    "colab": {
      "provenance": [],
      "authorship_tag": "ABX9TyPU5XD3UiXQVCqCKVImhw1k"
    },
    "kernelspec": {
      "name": "python3",
      "display_name": "Python 3"
    },
    "language_info": {
      "name": "python"
    },
    "accelerator": "GPU",
    "gpuClass": "standard"
  },
  "cells": [
    {
      "cell_type": "code",
      "execution_count": null,
      "metadata": {
        "id": "2-IgaDoChit3",
        "colab": {
          "base_uri": "https://localhost:8080/"
        },
        "outputId": "25c4428d-30eb-42b7-9b2c-7d5933234c5c"
      },
      "outputs": [
        {
          "output_type": "stream",
          "name": "stdout",
          "text": [
            "Mounted at /gdrive\n"
          ]
        }
      ],
      "source": [
        "from google.colab import drive\n",
        "drive.mount('/gdrive', force_remount=True)"
      ]
    },
    {
      "cell_type": "code",
      "source": [
        "# 파일 경로\n",
        "file_path = \"/gdrive/MyDrive/NLP/week1/train_data_after_10000_sent.txt\"\n",
        "\n",
        "# 딕셔너리 생성\n",
        "morph_data = {}\n",
        "\n",
        "# 파일 읽기\n",
        "with open(file_path, \"r\", encoding='cp949') as f:\n",
        "  for line in f:\n",
        "    word_list = line.strip().split('\\t')[1].split('+')\n",
        "\n",
        "    #word_list = morpheme.split('+')\n",
        "\n",
        "    for morph in word_list:\n",
        "      data_information = morph.split(\"/\")\n",
        "      \n",
        "      # 형태소/품사 구분\n",
        "      if len(data_information) == 2:\n",
        "          morph_key = data_information[0] # 형태소\n",
        "          morph_pos = data_information[1] # 품사\n",
        "\n",
        "          if morph_key in morph_data:\n",
        "              morph_data[morph_key][\"frequency\"] += 1\n",
        "          else:\n",
        "              morph_data[morph_key] = {\"position\": morph_pos, \"frequency\": 1}\n",
        "\n",
        "# 상위 100개 형태소 추출\n",
        "data_100 = sorted(morph_data.items(), key=lambda x: x[1][\"frequency\"], reverse=True)[:100]\n",
        "\n",
        "for i, (morph, info) in enumerate(data_100):\n",
        "    print(f\"{morph}/{info['position']}, {info['frequency']}, {i+1}*{info['frequency']}\")\n",
        "                           "
      ],
      "metadata": {
        "colab": {
          "base_uri": "https://localhost:8080/"
        },
        "id": "897AmwHsr6c_",
        "outputId": "e9899c52-c037-48c2-ba70-d6ec0beaa725"
      },
      "execution_count": null,
      "outputs": [
        {
          "output_type": "stream",
          "name": "stdout",
          "text": [
            "하/XSV, 5501, 1*5501\n",
            "이/VCP, 4830, 2*4830\n",
            "의/JKG, 3464, 3*3464\n",
            "./SF, 3357, 4*3357\n",
            "을/JKO, 3305, 5*3305\n",
            "는/ETM, 3120, 6*3120\n",
            "에/JKB, 2841, 7*2841\n",
            "ㄴ/ETM, 2762, 8*2762\n",
            ",/SP, 2450, 9*2450\n",
            "를/JKO, 1938, 10*1938\n",
            "다/EF, 1806, 11*1806\n",
            "은/JX, 1673, 12*1673\n",
            "고/EC, 1671, 13*1671\n",
            "가/JKS, 1585, 14*1585\n",
            "들/XSN, 1437, 15*1437\n",
            "도/JX, 1356, 16*1356\n",
            "어/EC, 1309, 17*1309\n",
            "과/JC, 1216, 18*1216\n",
            "에서/JKB, 1199, 19*1199\n",
            "되/XSV, 1111, 20*1111\n",
            "었/EP, 1061, 21*1061\n",
            "았/EP, 1034, 22*1034\n",
            "으로/JKB, 1025, 23*1025\n",
            "로/JKB, 1008, 24*1008\n",
            "아/EC, 978, 25*978\n",
            "ㄹ/ETM, 906, 26*906\n",
            "기/ETN, 860, 27*860\n",
            "지/VX, 808, 28*808\n",
            "와/JKB, 778, 29*778\n",
            "(/SS, 721, 30*721\n",
            ")/SS, 721, 31*721\n",
            "적/XSN, 713, 32*713\n",
            "만/NR, 660, 33*660\n",
            "ㄴ다/EC, 554, 34*554\n",
            "게/EC, 553, 35*553\n",
            "년/NNB, 365, 36*365\n",
            "던/ETM, 353, 37*353\n",
            "까지/JX, 331, 38*331\n",
            "면/NNG, 329, 39*329\n",
            "1/SN, 315, 40*315\n",
            "일/NNB, 304, 41*304\n",
            "씨/NNB, 299, 42*299\n",
            "며/EC, 297, 43*297\n",
            "원/NNB, 292, 44*292\n",
            "·/SP, 285, 45*285\n",
            "주/VV, 280, 46*280\n",
            "에게/JKB, 277, 47*277\n",
            "나/JX, 276, 48*276\n",
            "2/SN, 275, 49*275\n",
            "있/VV, 267, 50*267\n",
            "자/EC, 265, 51*265\n",
            "3/SN, 262, 52*262\n",
            "%/SW, 242, 53*242\n",
            "화/XSN, 239, 54*239\n",
            "[/SS, 232, 55*232\n",
            "]/SS, 232, 56*232\n",
            "ㅁ/ETN, 229, 57*229\n",
            "5/SN, 228, 58*228\n",
            "이나/JC, 220, 59*220\n",
            "∼/SO, 219, 60*219\n",
            "보/VV, 217, 61*217\n",
            "지만/EC, 214, 62*214\n",
            "다는/ETM, 213, 63*213\n",
            "라는/ETM, 209, 64*209\n",
            "면서/EC, 205, 65*205\n",
            "성/XSN, 201, 66*201\n",
            "시키/XSV, 194, 67*194\n",
            "아야/EC, 193, 68*193\n",
            "4/SN, 188, 69*188\n",
            "부터/JX, 179, 70*179\n",
            "여/XSN, 177, 71*177\n",
            "10/SN, 174, 72*174\n",
            "오/VV, 173, 73*173\n",
            "어야/EC, 171, 74*171\n",
            "월/NNB, 168, 75*168\n",
            "보다/JKB, 167, 76*167\n",
            "명/NNB, 164, 77*164\n",
            "시/NNB, 159, 78*159\n",
            "다고/EC, 159, 79*159\n",
            "6/SN, 147, 80*147\n",
            "권/XSN, 145, 81*145\n",
            "대/NNB, 139, 82*139\n",
            "라고/JKQ, 136, 83*136\n",
            "것/NNB, 132, 84*132\n",
            "7/SN, 127, 85*127\n",
            "아서/EC, 123, 86*123\n",
            "천/NR, 122, 87*122\n",
            "거나/EC, 122, 88*122\n",
            "8/SN, 122, 89*122\n",
            "처럼/JKB, 121, 90*121\n",
            "30/SN, 120, 91*120\n",
            "내/VV, 119, 92*119\n",
            "겠/EP, 118, 93*118\n",
            "ㄴ다는/ETM, 116, 94*116\n",
            "받/VV, 116, 95*116\n",
            "-/SS, 110, 96*110\n",
            "한국/NNP, 110, 97*110\n",
            "않/VX, 108, 98*108\n",
            "서/JKB, 105, 99*105\n",
            "간/NNG, 104, 100*104\n"
          ]
        }
      ]
    },
    {
      "cell_type": "code",
      "source": [],
      "metadata": {
        "id": "otC-7_DmuLc8"
      },
      "execution_count": null,
      "outputs": []
    }
  ]
}