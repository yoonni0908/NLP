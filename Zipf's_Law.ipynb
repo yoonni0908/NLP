{
  "nbformat": 4,
  "nbformat_minor": 0,
  "metadata": {
    "colab": {
      "provenance": [],
      "authorship_tag": "ABX9TyMB2/Nhqc2+wAQRTpMpC16U"
    },
    "kernelspec": {
      "name": "python3",
      "display_name": "Python 3"
    },
    "language_info": {
      "name": "python"
    },
    "accelerator": "GPU",
    "gpuClass": "standard"
  },
  "cells": [
    {
      "cell_type": "code",
      "execution_count": null,
      "metadata": {
        "id": "2-IgaDoChit3",
        "colab": {
          "base_uri": "https://localhost:8080/"
        },
        "outputId": "fe000168-14a1-4078-c6b3-42091c229dd5"
      },
      "outputs": [
        {
          "output_type": "stream",
          "name": "stdout",
          "text": [
            "Mounted at /gdrive\n"
          ]
        }
      ],
      "source": [
        "from google.colab import drive\n",
        "drive.mount('/gdrive', force_remount=True)"
      ]
    },
    {
      "cell_type": "code",
      "source": [
        "#파일 경로\n",
        "file_path = '/gdrive/MyDrive/NLP/week1/train_data_after_10000_sent.txt'\n",
        "\n",
        "with open(file_path, 'r', encoding='cp949') as f:\n",
        "  # 딕셔너리 생성\n",
        "  data_dict = {}\n",
        "\n",
        "  # 형태소, 품사 구분한 후 형태소 추출\n",
        "  for line in f:\n",
        "    datas = line.strip().split('\\t')[1].split('+')\n",
        "\n",
        "    # 형태소 빈도수 세기\n",
        "    for data in datas:\n",
        "        if data in data_dict:\n",
        "          data_dict[data] += 1\n",
        "        else:\n",
        "          data_dict[data] = 1\n",
        "\n",
        "  # 내림차순으로 sorting한 후 빈도수가 큰 상위 100개 추출\n",
        "  sorted_datas = sorted(data_dict.items(), key=lambda x: x[1], reverse=True)[:100]\n",
        "\n",
        "  for i, (data, freq) in enumerate(sorted_datas):\n",
        "    rank = i + 1 # 순위\n",
        "    print(f'{data}, {freq}, {rank}*{freq}') # 순위 * 빈도수 "
      ],
      "metadata": {
        "colab": {
          "base_uri": "https://localhost:8080/"
        },
        "id": "cKqCaRd96hV5",
        "outputId": "ac070bac-91e3-4477-b5bf-e28565f0cf21"
      },
      "execution_count": 55,
      "outputs": [
        {
          "output_type": "stream",
          "name": "stdout",
          "text": [
            "하/XSV, 3913, 1*3913\n",
            "의/JKG, 3463, 2*3463\n",
            "을/JKO, 3152, 3*3152\n",
            "./SF, 2925, 4*2925\n",
            "에/JKB, 2840, 5*2840\n",
            "ㄴ/ETM, 2621, 6*2621\n",
            "이/VCP, 2529, 7*2529\n",
            ",/SP, 2450, 8*2450\n",
            "이/JKS, 2079, 9*2079\n",
            "를/JKO, 1938, 10*1938\n",
            "는/JX, 1749, 11*1749\n",
            "고/EC, 1630, 12*1630\n",
            "다/EF, 1550, 13*1550\n",
            "은/JX, 1464, 14*1464\n",
            "는/ETM, 1371, 15*1371\n",
            "들/XSN, 1370, 16*1370\n",
            "도/JX, 1327, 17*1327\n",
            "어/EC, 1304, 18*1304\n",
            "가/JKS, 1299, 19*1299\n",
            "하/XSA, 1267, 20*1267\n",
            "에서/JKB, 1199, 21*1199\n",
            "었/EP, 1061, 22*1061\n",
            "았/EP, 1034, 23*1034\n",
            "으로/JKB, 1025, 24*1025\n",
            "로/JKB, 1007, 25*1007\n",
            "되/XSV, 969, 26*969\n",
            "아/EC, 968, 27*968\n",
            "과/JC, 941, 28*941\n",
            "ㄹ/ETM, 888, 29*888\n",
            "기/ETN, 842, 30*842\n",
            "(/SS, 721, 31*721\n",
            ")/SS, 721, 32*721\n",
            "적/XSN, 689, 33*689\n",
            "와/JC, 599, 34*599\n",
            "게/EC, 553, 35*553\n",
            "ㄴ다/EF, 507, 36*507\n",
            "지/EC, 487, 37*487\n",
            "./SP, 430, 38*430\n",
            "만/JX, 387, 39*387\n",
            "년/NNB, 365, 40*365\n",
            "던/ETM, 352, 41*352\n",
            "까지/JX, 331, 42*331\n",
            "1/SN, 315, 43*315\n",
            "지/VX, 299, 44*299\n",
            "씨/NNB, 298, 45*298\n",
            "며/EC, 296, 46*296\n",
            "원/NNB, 287, 47*287\n",
            "·/SP, 285, 48*285\n",
            "면/EC, 281, 49*281\n",
            "에게/JKB, 277, 50*277\n",
            "2/SN, 275, 51*275\n",
            "3/SN, 262, 52*262\n",
            "과/JKB, 256, 53*256\n",
            "%/SW, 242, 54*242\n",
            "만/NR, 236, 55*236\n",
            "화/XSN, 234, 56*234\n",
            "[/SS, 232, 57*232\n",
            "]/SS, 232, 58*232\n",
            "일/NNB, 230, 59*230\n",
            "다/EC, 229, 60*229\n",
            "ㅁ/ETN, 229, 61*229\n",
            "5/SN, 228, 62*228\n",
            "주/VX, 221, 63*221\n",
            "∼/SO, 218, 64*218\n",
            "다는/ETM, 213, 65*213\n",
            "지만/EC, 212, 66*212\n",
            "라는/ETM, 209, 67*209\n",
            "은/ETM, 207, 68*207\n",
            "면서/EC, 205, 69*205\n",
            "아야/EC, 193, 70*193\n",
            "성/XSN, 191, 71*191\n",
            "4/SN, 188, 72*188\n",
            "이나/JC, 184, 73*184\n",
            "시키/XSV, 181, 74*181\n",
            "부터/JX, 179, 75*179\n",
            "와/JKB, 178, 76*178\n",
            "하/VV, 176, 77*176\n",
            "10/SN, 174, 78*174\n",
            "어야/EC, 171, 79*171\n",
            "이/JKC, 170, 80*170\n",
            "여/XSN, 169, 81*169\n",
            "월/NNB, 167, 82*167\n",
            "보다/JKB, 167, 83*167\n",
            "명/NNB, 163, 84*163\n",
            "//SP, 159, 85*159\n",
            "자/NNG, 158, 86*158\n",
            "다고/EC, 157, 87*157\n",
            "을/ETM, 152, 88*152\n",
            "6/SN, 147, 89*147\n",
            "있/VV, 142, 90*142\n",
            "하/VX, 141, 91*141\n",
            "ㄴ/JX, 140, 92*140\n",
            "오/VX, 136, 93*136\n",
            "라고/EC, 133, 94*133\n",
            "것/NNB, 132, 95*132\n",
            "가/JKC, 130, 96*130\n",
            "보/VX, 129, 97*129\n",
            "나/JC, 128, 98*128\n",
            "7/SN, 127, 99*127\n",
            "아서/EC, 122, 100*122\n"
          ]
        }
      ]
    }
  ]
}