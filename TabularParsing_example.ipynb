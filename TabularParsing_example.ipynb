{
  "cells": [
    {
      "cell_type": "markdown",
      "metadata": {
        "id": "view-in-github",
        "colab_type": "text"
      },
      "source": [
        "<a href=\"https://colab.research.google.com/github/yoonni0908/NLP/blob/main/TabularParsing_example.ipynb\" target=\"_parent\"><img src=\"https://colab.research.google.com/assets/colab-badge.svg\" alt=\"Open In Colab\"/></a>"
      ]
    },
    {
      "cell_type": "code",
      "execution_count": 1,
      "metadata": {
        "id": "CvUQkapWy9el"
      },
      "outputs": [],
      "source": [
        "# 자소 분리 및 결합 코드\n",
        "cho_list = ['ㄱ', 'ㄲ', 'ㄴ', 'ㄷ', 'ㄸ', 'ㄹ', 'ㅁ', 'ㅂ', 'ㅃ', 'ㅅ', 'ㅆ', 'ㅇ', 'ㅈ', 'ㅉ', 'ㅊ', 'ㅋ', 'ㅌ', 'ㅍ', 'ㅎ']\n",
        "jung_list = ['ㅏ', 'ㅐ', 'ㅑ', 'ㅒ', 'ㅓ', 'ㅔ', 'ㅕ', 'ㅖ', 'ㅗ', 'ㅘ', 'ㅙ', 'ㅚ', 'ㅛ', 'ㅜ', 'ㅝ', 'ㅞ', 'ㅟ', 'ㅠ', 'ㅡ', 'ㅢ',\n",
        "             'ㅣ']\n",
        "jong_list = ['', 'ㄱ', 'ㄲ', 'ㄳ', 'ㄴ', 'ㄵ', 'ㄶ', 'ㄷ', 'ㄹ', 'ㄺ', 'ㄻ', 'ㄼ', 'ㄽ', 'ㄾ', 'ㄿ', 'ㅀ', 'ㅁ', 'ㅂ', 'ㅄ', 'ㅅ',\n",
        "             'ㅆ', 'ㅇ', 'ㅈ', 'ㅊ', 'ㅋ', 'ㅌ', 'ㅍ', 'ㅎ']\n",
        "\n",
        "def jaso_split(korean_word):\n",
        "    result = []\n",
        "    for c in list(korean_word.strip()):\n",
        "        # 현재 문자가 한글일 경우\n",
        "        if '가' <= c <= '힣':\n",
        "            chosung = (ord(c) - ord('가')) // 588\n",
        "            jungsung = ((ord(c) - ord('가')) - (588 * chosung)) // 28\n",
        "            jongsung = (ord(c) - ord('가')) - (588 * chosung) - (28 * jungsung)\n",
        "            result.append(cho_list[chosung])\n",
        "            result.append(jung_list[jungsung])\n",
        "            if jongsung:\n",
        "                result.append(jong_list[jongsung])\n",
        "        # 현재 문자가 한글이 아닐 경우\n",
        "        else:\n",
        "            result.append(c)\n",
        "\n",
        "    return result\n",
        "\n",
        "def jaso_combine(chosung, jungsung, jongsung):\n",
        "    if chosung in cho_list and jungsung in jung_list:\n",
        "        result = chr((28 * int(jung_list.index(jungsung))) + int(jong_list.index(jongsung)) + (588 * cho_list.index(chosung)) + ord('가'))\n",
        "    else:\n",
        "        result = ''.join([chosung, jungsung, jongsung])\n",
        "    return result"
      ]
    },
    {
      "cell_type": "code",
      "source": [
        "def tabular_parsing(jaso_list, morpheme, grammar):\n",
        "    # 입력된 자소 리스트를 문자열로 변환\n",
        "    word = \"\".join(jaso_list)\n",
        "    \n",
        "    # 추출된 형태소를 저장할 리스트\n",
        "    results = []\n",
        "    \n",
        "    # 사전과 접속 정보를 설정\n",
        "    dictionary = [m for m in morpheme]\n",
        "    connection = [g for g in grammar]\n",
        "    \n",
        "    # 오른쪽에서 왼쪽으로 분석\n",
        "    idx = len(word)\n",
        "    while idx > 0:\n",
        "        for i in range(idx):\n",
        "            morph = word[i:idx]  # 형태소 추출\n",
        "            if morph in dictionary:\n",
        "                results.append(morph)\n",
        "                idx = i\n",
        "                break\n",
        "        else:\n",
        "            # 사전에 없는 형태소인 경우, 접속 정보를 참고하여 분리\n",
        "            for c in connection:\n",
        "                if c in word[i:idx]:\n",
        "                    results.extend(word[i:idx].split(c))\n",
        "                    idx = i\n",
        "                    break\n",
        "\n",
        "    # 추출된 형태소를 역순으로 정렬\n",
        "    results.reverse()\n",
        "\n",
        "    # 형태소 조합을 생성하여 출력\n",
        "    combinations = []\n",
        "    for i in range(len(results) - 1):\n",
        "        for j in range(i + 1, len(results)):\n",
        "            combinations.append([results[i], results[j]])\n",
        "    return combinations"
      ],
      "metadata": {
        "id": "hR1R8tRsBSPE"
      },
      "execution_count": 32,
      "outputs": []
    },
    {
      "cell_type": "code",
      "execution_count": null,
      "metadata": {
        "id": "RNqQxoVEzG1D",
        "outputId": "9f227fd5-1388-4338-d10b-9d5c40c8c11a",
        "colab": {
          "base_uri": "https://localhost:8080/"
        }
      },
      "outputs": [
        {
          "output_type": "stream",
          "name": "stdout",
          "text": [
            "['ㄱ', 'ㅓ', 'ㄴ', 'ㄱ', 'ㅜ', 'ㄱ', 'ㄷ', 'ㅐ', 'ㄱ', 'ㅏ']\n"
          ]
        }
      ],
      "source": [
        "if __name__ == '__main__':\n",
        "    morpheme = {\"건국\": [\"NNG\"], \"국\": [\"NNG\"], \"대\": [\"NNB\"], \"대가\": [\"NNG\"], \"건국대\": [\"NNP\"], \"가\": [\"NNG\", \"JKS\"]}\n",
        "    grammar = [\"NNG+NNG\", \"NNB+JKS\", \"NNG+JKS\", \"NNP+NNG\", \"NNP+JKS\"]\n",
        "\n",
        "    # input_text = input(\"Input Sentence : \")\n",
        "    input_text = \"건국대가\"\n",
        "    jaso_list = jaso_split(input_text)\n",
        "    print(jaso_list)\n",
        "    print(tabular_parsing(jaso_list, morpheme, grammar))\n",
        "    \n"
      ]
    }
  ],
  "metadata": {
    "colab": {
      "provenance": [],
      "include_colab_link": true
    },
    "kernelspec": {
      "name": "python3",
      "display_name": "Python 3"
    },
    "language_info": {
      "name": "python"
    }
  },
  "nbformat": 4,
  "nbformat_minor": 0
}